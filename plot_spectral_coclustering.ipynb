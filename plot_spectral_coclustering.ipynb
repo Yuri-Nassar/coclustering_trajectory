{
 "cells": [
  {
   "cell_type": "code",
   "execution_count": 3,
   "metadata": {},
   "outputs": [],
   "source": [
    "%matplotlib inline"
   ]
  },
  {
   "cell_type": "markdown",
   "metadata": {},
   "source": [
    "\n",
    "# A demo of the Spectral Co-Clustering algorithm\n",
    "\n",
    "This example demonstrates how to generate a dataset and bicluster it\n",
    "using the Spectral Co-Clustering algorithm.\n",
    "\n",
    "The dataset is generated using the ``make_biclusters`` function, which\n",
    "creates a matrix of small values and implants bicluster with large\n",
    "values. The rows and columns are then shuffled and passed to the\n",
    "Spectral Co-Clustering algorithm. Rearranging the shuffled matrix to\n",
    "make biclusters contiguous shows how accurately the algorithm found\n",
    "the biclusters.\n"
   ]
  },
  {
   "cell_type": "code",
   "execution_count": 10,
   "metadata": {},
   "outputs": [
    {
     "data": {
      "text/plain": [
       "True"
      ]
     },
     "execution_count": 10,
     "metadata": {},
     "output_type": "execute_result"
    }
   ],
   "source": [
    "a = {'a':3,'b':5}\n",
    "'c' not in a"
   ]
  },
  {
   "cell_type": "code",
   "execution_count": 24,
   "metadata": {},
   "outputs": [],
   "source": [
    "def create_matrix_data(df):\n",
    "    sequence = []\n",
    "    past_tid = None\n",
    "    curr_tid = None\n",
    "    num_of_seqs = 0\n",
    "    map_element_id = 0\n",
    "    unique_elements = {}\n",
    "    map_id_to_element = {}\n",
    "#     f = open(\"data/real_application/foursquare_NY/fs_ny_week_sequences.dat\", \"w\")\n",
    "#     f = open(pfile, \"w\")\n",
    "    \n",
    "    for i in tqdm(range(int(len(df))), colour='blue', desc='Processing DataFrame'):\n",
    "        curr_tid = df.loc[i,\"new_tid\"]\n",
    "        index = df.index[df.loc[i,\"new_tid\"]]\n",
    "        element = str(df.loc[i,\"type\"].replace(' ','_'))\n",
    "        if element not in unique_elements:\n",
    "                unique_elements.update({element:map_element_id})\n",
    "                map_id_to_element.update({str(map_element_id):element})\n",
    "                map_element_id +=1\n",
    "        \n",
    "        if index == 0:\n",
    "            sequence.append(element)\n",
    "            past_tid = curr_tid\n",
    "            \n",
    "        elif curr_tid == past_tid:\n",
    "            sequence.append(element)\n",
    "                \n",
    "        elif curr_tid != past_tid:\n",
    "            tmp = ' '.join(sequence)\n",
    "            tmp += '\\n'\n",
    "#             f.write(tmp)\n",
    "            num_of_seqs += 1\n",
    "            sequence = []\n",
    "            sequence.append(element)\n",
    "            past_tid = curr_tid\n",
    "        \n",
    "        if i == (len(df)-1):\n",
    "            tmp = ' '.join(sequence)\n",
    "#             f.write(tmp)\n",
    "            num_of_seqs += 1\n",
    "            \n",
    "#     f.close()\n",
    "\n",
    "    print('Number of sequences: ',num_of_seqs)\n",
    "    print('Number of columns: ',len(unique_elements))\n",
    "    \n",
    "    matrix = np.zeros((num_of_seqs,len(unique_elements)))\n",
    "    print('Matrix: ',matrix.shape)\n",
    "    num_of_seqs = 0\n",
    "    \n",
    "    for i in tqdm(range(int(len(df))), colour='blue', desc='Populating Matrix'):\n",
    "        curr_tid = df.loc[i,\"new_tid\"]\n",
    "        index = df.index[df.loc[i,\"new_tid\"]]\n",
    "        element = str(df.loc[i,\"type\"].replace(' ','_'))\n",
    "        \n",
    "        if index == 0:\n",
    "            sequence.append(element)\n",
    "            past_tid = curr_tid\n",
    "            matrix[num_of_seqs,unique_elements[element]] += 1\n",
    "            \n",
    "        elif curr_tid == past_tid:\n",
    "            sequence.append(element)\n",
    "            matrix[num_of_seqs,unique_elements[element]] += 1\n",
    "                \n",
    "        elif curr_tid != past_tid:\n",
    "            tmp = ' '.join(sequence)\n",
    "            tmp += '\\n'\n",
    "#             f.write(tmp)\n",
    "            matrix[num_of_seqs,unique_elements[element]] += 1\n",
    "            num_of_seqs += 1\n",
    "            sequence = []\n",
    "            sequence.append(element)\n",
    "            past_tid = curr_tid\n",
    "        \n",
    "        if i == (len(df)-1):\n",
    "            tmp = ' '.join(sequence)\n",
    "#             f.write(tmp)\n",
    "            num_of_seqs += 1\n",
    "    \n",
    "    print(matrix.sum())\n",
    "    print(\"Process completed!\")\n",
    "    return matrix, map_id_to_element"
   ]
  },
  {
   "cell_type": "code",
   "execution_count": 25,
   "metadata": {
    "scrolled": false
   },
   "outputs": [
    {
     "name": "stderr",
     "output_type": "stream",
     "text": [
      "Processing DataFrame:  37%|\u001b[34m███████████████████▍                                \u001b[0m| 4393/11715 [00:00<00:00, 43792.43it/s]\u001b[0m"
     ]
    },
    {
     "name": "stdout",
     "output_type": "stream",
     "text": [
      "Automatically created module for IPython interactive environment\n"
     ]
    },
    {
     "name": "stderr",
     "output_type": "stream",
     "text": [
      "Processing DataFrame: 100%|\u001b[34m███████████████████████████████████████████████████\u001b[0m| 11715/11715 [00:00<00:00, 50540.75it/s]\u001b[0m\n",
      "Populating Matrix:  33%|\u001b[34m██████████████████▏                                    \u001b[0m| 3866/11715 [00:00<00:00, 38566.98it/s]\u001b[0m"
     ]
    },
    {
     "name": "stdout",
     "output_type": "stream",
     "text": [
      "Number of sequences:  352\n",
      "Number of columns:  310\n",
      "Matrix:  (352, 310)\n"
     ]
    },
    {
     "name": "stderr",
     "output_type": "stream",
     "text": [
      "Populating Matrix: 100%|\u001b[34m██████████████████████████████████████████████████████\u001b[0m| 11715/11715 [00:00<00:00, 43461.35it/s]\u001b[0m\n"
     ]
    },
    {
     "name": "stdout",
     "output_type": "stream",
     "text": [
      "11715.0\n",
      "Process completed!\n",
      "<class 'numpy.ndarray'> (352, 310)\n",
      "Done in 0.05s.\n",
      "Row clusters: 10\n",
      "Column clusters: 10\n"
     ]
    },
    {
     "data": {
      "image/png": "[encoded data removed]",
      "text/plain": [
       "<Figure size 288x327.019 with 1 Axes>"
      ]
     },
     "metadata": {
      "needs_background": "light"
     },
     "output_type": "display_data"
    },
    {
     "data": {
      "image/png": "[encoded data removed]",
      "text/plain": [
       "<Figure size 288x327.019 with 1 Axes>"
      ]
     },
     "metadata": {
      "needs_background": "light"
     },
     "output_type": "display_data"
    },
    {
     "data": {
      "image/png": "[encoded data removed]",
      "text/plain": [
       "<Figure size 288x327.019 with 1 Axes>"
      ]
     },
     "metadata": {
      "needs_background": "light"
     },
     "output_type": "display_data"
    },
    {
     "name": "stdout",
     "output_type": "stream",
     "text": [
      "Cluster  0\n",
      "Number of rows:  43\n",
      "Elements: Pool, Bank, Doctor's_Office, Automotive_Shop, Salon_/_Barbershop, Bridge, Medical_Center, Electronics_Store, Discount_Store, Hockey_Arena, Wine_Bar, Basketball_Court, Financial_or_Legal_Service, New_American_Restaurant, Tunnel, College_Academic_Building, Salad_Place, Dance_Studio, Pet_Store, Czech_Restaurant, Rest_Area, Bowling_Alley, Snack_Place, Empanada_Restaurant, Scandinavian_Restaurant, Trade_School, Fire_Station, Music_School, \n",
      "\n",
      "Cluster  1\n",
      "Number of rows:  33\n",
      "Elements: Speakeasy, Music_Venue, Restaurant, Pizza_Place, High_School, Home_(private), Building, Office, Gas_Station, Seafood_Restaurant, Italian_Restaurant, Government_Building, Sports_Bar, Church, Pharmacy, Cafe, Beach, Arts_&_Crafts_Store, Gymnastics_Gym, Animal_Shelter, Music_Store, German_Restaurant, Clothing_Store, Golf_Course, Nightclub, Gourmet_Shop, Dentist's_Office, Supermarket, Gay_Bar, Paper_/_Office_Supplies_Store, Deli_/_Bodega, Miscellaneous_Shop, Southern_/_Soul_Food_Restaurant, Sandwich_Place, Cafeteria, Optical_Shop, Bakery, Bagel_Shop, Food_Truck, Laundry_Service, Food_&_Drink_Shop, Fair, Art_Gallery, Nail_Salon, Movie_Theater, Racetrack, Baseball_Stadium, Tech_Startup, Women's_Store, Bar, Board_Shop, Basketball_Stadium, French_Restaurant, Concert_Hall, College_History_Building, Monument_/_Landmark, Art_Museum, Falafel_Restaurant, Spa, Tea_Room, Soup_Place, Liquor_Store, Big_Box_Store, Light_Rail_Station, Theater, Chocolate_Shop, Boutique, Bookstore, Outdoor_Sculpture, Thai_Restaurant, Flea_Market, Hot_Dog_Joint, Comedy_Club, Playground, Pie_Shop, Russian_Restaurant, Roof_Deck, College_Classroom, College_Bookstore, Colombian_Restaurant, Irish_Pub, Jazz_Club, Indie_Movie_Theater, Border_Crossing, Belgian_Restaurant, Business_Service, IT_Services, Corporate_Cafeteria, English_Restaurant, Taco_Place, Memorial_Site, Public_Art, Newsstand, Casino, Check_Cashing_Service, Shop_&_Service, Shanghai_Restaurant, Outdoors_&_Recreation, Beer_Store, Cable_Car, Swiss_Restaurant, Ramen_Restaurant, Convention_Center, College_Technology_Building, Arcade, Harbor_/_Marina, Waterfront, Warehouse_Store, \n",
      "\n",
      "Cluster  2\n",
      "Number of rows:  40\n",
      "Elements: Other_Nightlife, Bus_Line, Radio_Station, Voting_Booth, Camera_Store, Market, Chiropractor, Noodle_House, Gastropub, Brewery, South_American_Restaurant, Lingerie_Store, Israeli_Restaurant, Historic_Site, Candy_Store, Spiritual_Center, Indian_Restaurant, University, Platform, Campground, Men's_Store, Skating_Rink, Airport_Lounge, Turkish_Restaurant, Australian_Restaurant, Sake_Bar, Baseball_Field, Bike_Shop, \n",
      "\n",
      "Cluster  3\n",
      "Number of rows:  35\n",
      "Elements: Burger_Joint, Airport_Gate, Latin_American_Restaurant, BBQ_Joint, Advertising_Agency, \n",
      "\n",
      "Cluster  4\n",
      "Number of rows:  71\n",
      "Elements: Strip_Club, Park, Airport_Terminal, Farm, Furniture_/_Home_Store, Gym_/_Fitness_Center, Convenience_Store, Metro_Station, Cemetery, Housing_Development, Scenic_Lookout, Garden, Pub, Beer_Garden, Shopping_Mall, Multiplex, Luggage_Store, Toll_Plaza, Rock_Club, Tapas_Restaurant, Hotel_Bar, Austrian_Restaurant, Event_Space, Supplement_Shop, Festival, Vegetarian_/_Vegan_Restaurant, Toy_/_Game_Store, Theme_Park, Eastern_European_Restaurant, Portuguese_Restaurant, Trail, \n",
      "\n",
      "Cluster  5\n",
      "Number of rows:  15\n",
      "Elements: Coffee_Shop, Cuban_Restaurant, Meeting_Room, Library, Hardware_Store, Airport_Tram, Chinese_Restaurant, Mobile_Phone_Shop, Fried_Chicken_Joint, Fish_Market, Parking, Bubble_Tea_Shop, Science_Museum, Cupcake_Shop, Greek_Restaurant, Food_Court, City_Hall, Track, Hotpot_Restaurant, \n",
      "\n",
      "Cluster  6\n",
      "Number of rows:  8\n",
      "Elements: Hotel, Sporting_Goods_Shop, Vietnamese_Restaurant, \n",
      "\n",
      "Cluster  7\n",
      "Number of rows:  61\n",
      "Elements: American_Restaurant, Post_Office, Elementary_School, Donut_Shop, Museum, Gift_Shop, Lounge, Breakfast_Spot, General_Entertainment, Gym, Hookah_Bar, Steakhouse, Bus_Stop, Cosmetics_Shop, Caribbean_Restaurant, Bus_Station, Plaza, Train, Funeral_Home, Storage_Facility, Performing_Arts_Venue, Field, Soccer_Stadium, Dive_Bar, Dessert_Shop, Distillery, Wine_Shop, Car_Wash, Pier, Asian_Restaurant, Farmers_Market, Brazilian_Restaurant, Resort, Karaoke_Bar, Street_Food_Gathering, Peruvian_Restaurant, Yoga_Studio, Burrito_Place, Airport, Korean_Restaurant, Thrift_/_Vintage_Store, Video_Game_Store, Cajun_/_Creole_Restaurant, Kitchen_Supply_Store, Temple, Synagogue, Aquarium, Theme_Park_Ride_/_Attraction, Butcher, Dumpling_Restaurant, Filipino_Restaurant, Street_Fair, Middle_Eastern_Restaurant, Pakistani_Restaurant, Christmas_Market, Assisted_Living, Whisky_Bar, Football_Stadium, Island, Credit_Union, Courthouse, \n",
      "\n",
      "Cluster  8\n",
      "Number of rows:  24\n",
      "Elements: Fast_Food_Restaurant, Ice_Cream_Shop, Cocktail_Bar, Sushi_Restaurant, Other_Repair_Shop, Smoke_Shop, Grocery_Store, Dog_Run, Frozen_Yogurt_Shop, Department_Store, Mediterranean_Restaurant, School, Spanish_Restaurant, Japanese_Restaurant, Fraternity_House, Coworking_Space, College_Arts_Building, Auto_Dealership, \n",
      "\n",
      "Cluster  9\n",
      "Number of rows:  22\n",
      "Elements: Mexican_Restaurant, Residential_Building_(Apartment_/_Condo), Diner, Shoe_Store, Juice_Bar, Wings_Joint, College_Administrative_Building, Indie_Theater, Cheese_Shop, \n",
      "\n"
     ]
    }
   ],
   "source": [
    "print(__doc__)\n",
    "\n",
    "# Author: Kemal Eren <kemal@kemaleren.com>\n",
    "# License: BSD 3 clause\n",
    "\n",
    "import numpy as np\n",
    "from matplotlib import pyplot as plt\n",
    "import pandas as pd\n",
    "from tqdm import tqdm\n",
    "from time import time\n",
    "\n",
    "# from sklearn.datasets import make_biclusters\n",
    "from sklearn.cluster import SpectralCoclustering\n",
    "# from sklearn.metrics import consensus_score\n",
    "\n",
    "# data, rows, columns = make_biclusters(\n",
    "#     shape=(300, 300), n_clusters=5, noise=5,\n",
    "#     shuffle=False, random_state=0)\n",
    "\n",
    "k = 10\n",
    "df_fs_top = pd.read_csv('data/real_application/foursquare_NY/fs_ny_top_users_10.csv', sep=\";\")\n",
    "data, map_id_to_element = create_matrix_data(df_fs_top)\n",
    "\n",
    "print(type(data),data.shape)\n",
    "\n",
    "# plt.matshow(data, cmap=plt.cm.Blues)\n",
    "plt.matshow(data, cmap=plt.cm.hot)\n",
    "plt.title(\"Original dataset\")\n",
    "\n",
    "# shuffle clusters\n",
    "rng = np.random.RandomState(0)\n",
    "row_idx = rng.permutation(data.shape[0])\n",
    "col_idx = rng.permutation(data.shape[1])\n",
    "data = data[row_idx][:, col_idx]\n",
    "\n",
    "plt.matshow(data, cmap=plt.cm.Blues)\n",
    "plt.title(\"Shuffled dataset\")\n",
    "\n",
    "start_time = time()\n",
    "# model = SpectralCoclustering(n_clusters=193, random_state=0)\n",
    "model = SpectralCoclustering(n_clusters=10, random_state=0)\n",
    "model.fit(data)\n",
    "end_time = time()\n",
    "print(\"Done in {:.2f}s.\".format(end_time-start_time))\n",
    "\n",
    "# score = consensus_score(model.biclusters_,\n",
    "#                         (rows[:, row_idx], columns[:, col_idx]))\n",
    "\n",
    "# print(\"consensus score: {:.3f}\".format(score))\n",
    "\n",
    "fit_data = data[np.argsort(model.row_labels_)]\n",
    "fit_data = fit_data[:, np.argsort(model.column_labels_)]\n",
    "# print('Row labels: ',len(model.row_labels_))\n",
    "# print(type(model.row_labels_))\n",
    "df_r = pd.DataFrame({'row_labels':list(model.row_labels_)})\n",
    "df_c = pd.DataFrame({'column_labels':list(model.column_labels_)})\n",
    "print('Row clusters:',df_r['row_labels'].nunique())\n",
    "print('Column clusters:',df_c['column_labels'].nunique())\n",
    "\n",
    "plt.matshow(fit_data, cmap=plt.cm.hot)\n",
    "plt.title(\"After biclustering; rearranged to show biclusters\")\n",
    "plt.show()\n",
    "\n",
    "for i in range(k):\n",
    "    print('Cluster ',i)\n",
    "#     print(model.get_indices(i))\n",
    "    print('Number of rows: ',len(model.get_indices(i)[0]))\n",
    "    print('Elements: ',end='')\n",
    "    for col in model.get_indices(i)[1]:\n",
    "        print(map_id_to_element[str(col)],end=\", \")\n",
    "#         print(col, end=\", \")\n",
    "        \n",
    "    print('\\n')"
   ]
  }
 ],
 "metadata": {
  "kernelspec": {
   "display_name": "Python 3",
   "language": "python",
   "name": "python3"
  },
  "language_info": {
   "codemirror_mode": {
    "name": "ipython",
    "version": 3
   },
   "file_extension": ".py",
   "mimetype": "text/x-python",
   "name": "python",
   "nbconvert_exporter": "python",
   "pygments_lexer": "ipython3",
   "version": "3.7.1"
  }
 },
 "nbformat": 4,
 "nbformat_minor": 1
}
